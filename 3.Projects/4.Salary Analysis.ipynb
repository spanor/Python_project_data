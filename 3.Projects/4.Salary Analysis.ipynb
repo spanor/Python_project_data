{
 "cells": [
  {
   "cell_type": "code",
   "execution_count": 2,
   "metadata": {},
   "outputs": [],
   "source": [
    "import ast\n",
    "import pandas as pd\n",
    "from datasets import load_dataset\n",
    "import matplotlib.pyplot as plt \n",
    "from adjustText import adjust_text\n",
    "import seaborn as sns\n",
    "\n",
    "# Loading Data\n",
    "dataset = load_dataset('lukebarousse/data_jobs')\n",
    "df = dataset['train'].to_pandas()\n",
    "\n",
    "# Data Cleanup\n",
    "df['job_posted_date'] = pd.to_datetime(df['job_posted_date'])\n",
    "df['job_skills'] = df['job_skills'].apply(lambda x: ast.literal_eval(x) if pd.notna(x) else x)"
   ]
  },
  {
   "cell_type": "code",
   "execution_count": 3,
   "metadata": {},
   "outputs": [
    {
     "data": {
      "text/html": [
       "<div>\n",
       "<style scoped>\n",
       "    .dataframe tbody tr th:only-of-type {\n",
       "        vertical-align: middle;\n",
       "    }\n",
       "\n",
       "    .dataframe tbody tr th {\n",
       "        vertical-align: top;\n",
       "    }\n",
       "\n",
       "    .dataframe thead th {\n",
       "        text-align: right;\n",
       "    }\n",
       "</style>\n",
       "<table border=\"1\" class=\"dataframe\">\n",
       "  <thead>\n",
       "    <tr style=\"text-align: right;\">\n",
       "      <th></th>\n",
       "      <th>job_title_short</th>\n",
       "      <th>job_title</th>\n",
       "      <th>job_location</th>\n",
       "      <th>job_via</th>\n",
       "      <th>job_schedule_type</th>\n",
       "      <th>job_work_from_home</th>\n",
       "      <th>search_location</th>\n",
       "      <th>job_posted_date</th>\n",
       "      <th>job_no_degree_mention</th>\n",
       "      <th>job_health_insurance</th>\n",
       "      <th>job_country</th>\n",
       "      <th>salary_rate</th>\n",
       "      <th>salary_year_avg</th>\n",
       "      <th>salary_hour_avg</th>\n",
       "      <th>company_name</th>\n",
       "      <th>job_skills</th>\n",
       "      <th>job_type_skills</th>\n",
       "    </tr>\n",
       "  </thead>\n",
       "  <tbody>\n",
       "    <tr>\n",
       "      <th>92</th>\n",
       "      <td>Data Engineer</td>\n",
       "      <td>Remote - Data Engineer - Permanent - W2</td>\n",
       "      <td>Anywhere</td>\n",
       "      <td>via LinkedIn</td>\n",
       "      <td>Full-time</td>\n",
       "      <td>True</td>\n",
       "      <td>Illinois, United States</td>\n",
       "      <td>2023-02-21 13:29:59</td>\n",
       "      <td>False</td>\n",
       "      <td>True</td>\n",
       "      <td>United States</td>\n",
       "      <td>year</td>\n",
       "      <td>120000.0</td>\n",
       "      <td>NaN</td>\n",
       "      <td>Apex Systems</td>\n",
       "      <td>[sql, python]</td>\n",
       "      <td>{'programming': ['sql', 'python']}</td>\n",
       "    </tr>\n",
       "    <tr>\n",
       "      <th>100</th>\n",
       "      <td>Data Scientist</td>\n",
       "      <td>Data Scientist, Risk Data Mining - USDS</td>\n",
       "      <td>Mountain View, CA</td>\n",
       "      <td>via LinkedIn</td>\n",
       "      <td>Full-time</td>\n",
       "      <td>False</td>\n",
       "      <td>California, United States</td>\n",
       "      <td>2023-07-31 13:01:18</td>\n",
       "      <td>False</td>\n",
       "      <td>True</td>\n",
       "      <td>United States</td>\n",
       "      <td>year</td>\n",
       "      <td>228222.0</td>\n",
       "      <td>NaN</td>\n",
       "      <td>TikTok</td>\n",
       "      <td>[sql, r, python, express]</td>\n",
       "      <td>{'programming': ['sql', 'r', 'python'], 'webfr...</td>\n",
       "    </tr>\n",
       "    <tr>\n",
       "      <th>109</th>\n",
       "      <td>Data Analyst</td>\n",
       "      <td>Senior Supply Chain Analytics Analyst</td>\n",
       "      <td>Anywhere</td>\n",
       "      <td>via Get.It</td>\n",
       "      <td>Full-time</td>\n",
       "      <td>True</td>\n",
       "      <td>Illinois, United States</td>\n",
       "      <td>2023-10-12 13:02:19</td>\n",
       "      <td>False</td>\n",
       "      <td>True</td>\n",
       "      <td>United States</td>\n",
       "      <td>year</td>\n",
       "      <td>89000.0</td>\n",
       "      <td>NaN</td>\n",
       "      <td>Get It Recruit - Transportation</td>\n",
       "      <td>[python, r, alteryx, tableau]</td>\n",
       "      <td>{'analyst_tools': ['alteryx', 'tableau'], 'pro...</td>\n",
       "    </tr>\n",
       "    <tr>\n",
       "      <th>116</th>\n",
       "      <td>Data Scientist</td>\n",
       "      <td>Data Scientist</td>\n",
       "      <td>Anywhere</td>\n",
       "      <td>via LinkedIn</td>\n",
       "      <td>Full-time</td>\n",
       "      <td>True</td>\n",
       "      <td>Texas, United States</td>\n",
       "      <td>2023-10-04 13:04:23</td>\n",
       "      <td>False</td>\n",
       "      <td>False</td>\n",
       "      <td>United States</td>\n",
       "      <td>year</td>\n",
       "      <td>114000.0</td>\n",
       "      <td>NaN</td>\n",
       "      <td>4 Corner Resources</td>\n",
       "      <td>[r, python, sql, t-sql, hadoop, spark, tableau]</td>\n",
       "      <td>{'analyst_tools': ['tableau'], 'libraries': ['...</td>\n",
       "    </tr>\n",
       "    <tr>\n",
       "      <th>146</th>\n",
       "      <td>Data Engineer</td>\n",
       "      <td>Data Engineer Graduate (Real Time Communicatio...</td>\n",
       "      <td>Seattle, WA</td>\n",
       "      <td>via LinkedIn</td>\n",
       "      <td>Full-time</td>\n",
       "      <td>False</td>\n",
       "      <td>California, United States</td>\n",
       "      <td>2023-10-21 13:06:16</td>\n",
       "      <td>False</td>\n",
       "      <td>True</td>\n",
       "      <td>United States</td>\n",
       "      <td>year</td>\n",
       "      <td>129500.0</td>\n",
       "      <td>NaN</td>\n",
       "      <td>ByteDance</td>\n",
       "      <td>[golang, scala, python, java, hadoop, spark]</td>\n",
       "      <td>{'libraries': ['hadoop', 'spark'], 'programmin...</td>\n",
       "    </tr>\n",
       "    <tr>\n",
       "      <th>...</th>\n",
       "      <td>...</td>\n",
       "      <td>...</td>\n",
       "      <td>...</td>\n",
       "      <td>...</td>\n",
       "      <td>...</td>\n",
       "      <td>...</td>\n",
       "      <td>...</td>\n",
       "      <td>...</td>\n",
       "      <td>...</td>\n",
       "      <td>...</td>\n",
       "      <td>...</td>\n",
       "      <td>...</td>\n",
       "      <td>...</td>\n",
       "      <td>...</td>\n",
       "      <td>...</td>\n",
       "      <td>...</td>\n",
       "      <td>...</td>\n",
       "    </tr>\n",
       "    <tr>\n",
       "      <th>785563</th>\n",
       "      <td>Data Scientist</td>\n",
       "      <td>Data Scientist I/II (Model Risk Management &amp; M...</td>\n",
       "      <td>Pensacola, FL</td>\n",
       "      <td>via Navy Federal Credit Union - Talentify</td>\n",
       "      <td>Full-time</td>\n",
       "      <td>False</td>\n",
       "      <td>Florida, United States</td>\n",
       "      <td>2023-01-11 06:22:10</td>\n",
       "      <td>False</td>\n",
       "      <td>False</td>\n",
       "      <td>United States</td>\n",
       "      <td>year</td>\n",
       "      <td>136400.0</td>\n",
       "      <td>NaN</td>\n",
       "      <td>Navy Federal Credit Union</td>\n",
       "      <td>[r, python, matplotlib, ggplot2, spark, word, ...</td>\n",
       "      <td>{'analyst_tools': ['word', 'power bi', 'tablea...</td>\n",
       "    </tr>\n",
       "    <tr>\n",
       "      <th>785624</th>\n",
       "      <td>Data Engineer</td>\n",
       "      <td>Data Analytics Engineer (Hybrid)</td>\n",
       "      <td>Mt Prospect, IL</td>\n",
       "      <td>via Ai-Jobs.net</td>\n",
       "      <td>Full-time</td>\n",
       "      <td>False</td>\n",
       "      <td>Illinois, United States</td>\n",
       "      <td>2023-08-31 06:02:16</td>\n",
       "      <td>False</td>\n",
       "      <td>True</td>\n",
       "      <td>United States</td>\n",
       "      <td>year</td>\n",
       "      <td>139216.0</td>\n",
       "      <td>NaN</td>\n",
       "      <td>Bosch Group</td>\n",
       "      <td>[go, python, r, sql, oracle, windows, alteryx,...</td>\n",
       "      <td>{'analyst_tools': ['alteryx', 'power bi', 'tab...</td>\n",
       "    </tr>\n",
       "    <tr>\n",
       "      <th>785641</th>\n",
       "      <td>Data Engineer</td>\n",
       "      <td>Data Engineer</td>\n",
       "      <td>New York, NY</td>\n",
       "      <td>via Dice</td>\n",
       "      <td>Full-time</td>\n",
       "      <td>False</td>\n",
       "      <td>Georgia</td>\n",
       "      <td>2023-01-04 16:36:07</td>\n",
       "      <td>True</td>\n",
       "      <td>False</td>\n",
       "      <td>United States</td>\n",
       "      <td>year</td>\n",
       "      <td>150000.0</td>\n",
       "      <td>NaN</td>\n",
       "      <td>Engage Partners, Inc.</td>\n",
       "      <td>None</td>\n",
       "      <td>None</td>\n",
       "    </tr>\n",
       "    <tr>\n",
       "      <th>785648</th>\n",
       "      <td>Data Scientist</td>\n",
       "      <td>Director Data Scientist - Commercial Platforms...</td>\n",
       "      <td>Pleasant Hill, CA</td>\n",
       "      <td>via Ai-Jobs.net</td>\n",
       "      <td>Full-time</td>\n",
       "      <td>False</td>\n",
       "      <td>California, United States</td>\n",
       "      <td>2023-04-12 06:02:51</td>\n",
       "      <td>False</td>\n",
       "      <td>True</td>\n",
       "      <td>United States</td>\n",
       "      <td>year</td>\n",
       "      <td>221875.0</td>\n",
       "      <td>NaN</td>\n",
       "      <td>84.51°</td>\n",
       "      <td>[python, azure, snowflake, spark]</td>\n",
       "      <td>{'cloud': ['azure', 'snowflake'], 'libraries':...</td>\n",
       "    </tr>\n",
       "    <tr>\n",
       "      <th>785692</th>\n",
       "      <td>Data Scientist</td>\n",
       "      <td>Data Scientist- Hybrid Work Location</td>\n",
       "      <td>Dayton, OH</td>\n",
       "      <td>via Ai-Jobs.net</td>\n",
       "      <td>Full-time</td>\n",
       "      <td>False</td>\n",
       "      <td>Illinois, United States</td>\n",
       "      <td>2023-04-21 06:02:31</td>\n",
       "      <td>False</td>\n",
       "      <td>True</td>\n",
       "      <td>United States</td>\n",
       "      <td>year</td>\n",
       "      <td>157500.0</td>\n",
       "      <td>NaN</td>\n",
       "      <td>Tenet3</td>\n",
       "      <td>[python, matlab, r]</td>\n",
       "      <td>{'programming': ['python', 'matlab', 'r']}</td>\n",
       "    </tr>\n",
       "  </tbody>\n",
       "</table>\n",
       "<p>15766 rows × 17 columns</p>\n",
       "</div>"
      ],
      "text/plain": [
       "       job_title_short                                          job_title  \\\n",
       "92       Data Engineer            Remote - Data Engineer - Permanent - W2   \n",
       "100     Data Scientist            Data Scientist, Risk Data Mining - USDS   \n",
       "109       Data Analyst              Senior Supply Chain Analytics Analyst   \n",
       "116     Data Scientist                                     Data Scientist   \n",
       "146      Data Engineer  Data Engineer Graduate (Real Time Communicatio...   \n",
       "...                ...                                                ...   \n",
       "785563  Data Scientist  Data Scientist I/II (Model Risk Management & M...   \n",
       "785624   Data Engineer                   Data Analytics Engineer (Hybrid)   \n",
       "785641   Data Engineer                                      Data Engineer   \n",
       "785648  Data Scientist  Director Data Scientist - Commercial Platforms...   \n",
       "785692  Data Scientist               Data Scientist- Hybrid Work Location   \n",
       "\n",
       "             job_location                                    job_via  \\\n",
       "92               Anywhere                               via LinkedIn   \n",
       "100     Mountain View, CA                               via LinkedIn   \n",
       "109              Anywhere                                 via Get.It   \n",
       "116              Anywhere                               via LinkedIn   \n",
       "146           Seattle, WA                               via LinkedIn   \n",
       "...                   ...                                        ...   \n",
       "785563      Pensacola, FL  via Navy Federal Credit Union - Talentify   \n",
       "785624    Mt Prospect, IL                            via Ai-Jobs.net   \n",
       "785641       New York, NY                                   via Dice   \n",
       "785648  Pleasant Hill, CA                            via Ai-Jobs.net   \n",
       "785692         Dayton, OH                            via Ai-Jobs.net   \n",
       "\n",
       "       job_schedule_type  job_work_from_home            search_location  \\\n",
       "92             Full-time                True    Illinois, United States   \n",
       "100            Full-time               False  California, United States   \n",
       "109            Full-time                True    Illinois, United States   \n",
       "116            Full-time                True       Texas, United States   \n",
       "146            Full-time               False  California, United States   \n",
       "...                  ...                 ...                        ...   \n",
       "785563         Full-time               False     Florida, United States   \n",
       "785624         Full-time               False    Illinois, United States   \n",
       "785641         Full-time               False                    Georgia   \n",
       "785648         Full-time               False  California, United States   \n",
       "785692         Full-time               False    Illinois, United States   \n",
       "\n",
       "           job_posted_date  job_no_degree_mention  job_health_insurance  \\\n",
       "92     2023-02-21 13:29:59                  False                  True   \n",
       "100    2023-07-31 13:01:18                  False                  True   \n",
       "109    2023-10-12 13:02:19                  False                  True   \n",
       "116    2023-10-04 13:04:23                  False                 False   \n",
       "146    2023-10-21 13:06:16                  False                  True   \n",
       "...                    ...                    ...                   ...   \n",
       "785563 2023-01-11 06:22:10                  False                 False   \n",
       "785624 2023-08-31 06:02:16                  False                  True   \n",
       "785641 2023-01-04 16:36:07                   True                 False   \n",
       "785648 2023-04-12 06:02:51                  False                  True   \n",
       "785692 2023-04-21 06:02:31                  False                  True   \n",
       "\n",
       "          job_country salary_rate  salary_year_avg  salary_hour_avg  \\\n",
       "92      United States        year         120000.0              NaN   \n",
       "100     United States        year         228222.0              NaN   \n",
       "109     United States        year          89000.0              NaN   \n",
       "116     United States        year         114000.0              NaN   \n",
       "146     United States        year         129500.0              NaN   \n",
       "...               ...         ...              ...              ...   \n",
       "785563  United States        year         136400.0              NaN   \n",
       "785624  United States        year         139216.0              NaN   \n",
       "785641  United States        year         150000.0              NaN   \n",
       "785648  United States        year         221875.0              NaN   \n",
       "785692  United States        year         157500.0              NaN   \n",
       "\n",
       "                           company_name  \\\n",
       "92                         Apex Systems   \n",
       "100                              TikTok   \n",
       "109     Get It Recruit - Transportation   \n",
       "116                  4 Corner Resources   \n",
       "146                           ByteDance   \n",
       "...                                 ...   \n",
       "785563        Navy Federal Credit Union   \n",
       "785624                      Bosch Group   \n",
       "785641            Engage Partners, Inc.   \n",
       "785648                           84.51°   \n",
       "785692                           Tenet3   \n",
       "\n",
       "                                               job_skills  \\\n",
       "92                                          [sql, python]   \n",
       "100                             [sql, r, python, express]   \n",
       "109                         [python, r, alteryx, tableau]   \n",
       "116       [r, python, sql, t-sql, hadoop, spark, tableau]   \n",
       "146          [golang, scala, python, java, hadoop, spark]   \n",
       "...                                                   ...   \n",
       "785563  [r, python, matplotlib, ggplot2, spark, word, ...   \n",
       "785624  [go, python, r, sql, oracle, windows, alteryx,...   \n",
       "785641                                               None   \n",
       "785648                  [python, azure, snowflake, spark]   \n",
       "785692                                [python, matlab, r]   \n",
       "\n",
       "                                          job_type_skills  \n",
       "92                     {'programming': ['sql', 'python']}  \n",
       "100     {'programming': ['sql', 'r', 'python'], 'webfr...  \n",
       "109     {'analyst_tools': ['alteryx', 'tableau'], 'pro...  \n",
       "116     {'analyst_tools': ['tableau'], 'libraries': ['...  \n",
       "146     {'libraries': ['hadoop', 'spark'], 'programmin...  \n",
       "...                                                   ...  \n",
       "785563  {'analyst_tools': ['word', 'power bi', 'tablea...  \n",
       "785624  {'analyst_tools': ['alteryx', 'power bi', 'tab...  \n",
       "785641                                               None  \n",
       "785648  {'cloud': ['azure', 'snowflake'], 'libraries':...  \n",
       "785692         {'programming': ['python', 'matlab', 'r']}  \n",
       "\n",
       "[15766 rows x 17 columns]"
      ]
     },
     "execution_count": 3,
     "metadata": {},
     "output_type": "execute_result"
    }
   ],
   "source": [
    "df_US = df[df['job_country'] == 'United States'].copy().dropna(subset = 'salary_year_avg')\n",
    "df_US"
   ]
  },
  {
   "cell_type": "code",
   "execution_count": 4,
   "metadata": {},
   "outputs": [
    {
     "data": {
      "text/plain": [
       "['Data Analyst',\n",
       " 'Data Engineer',\n",
       " 'Data Scientist',\n",
       " 'Business Analyst',\n",
       " 'Software Engineer',\n",
       " 'Senior Data Engineer']"
      ]
     },
     "execution_count": 4,
     "metadata": {},
     "output_type": "execute_result"
    }
   ],
   "source": [
    "job_list = df['job_title_short'].value_counts().index[:6].tolist()\n",
    "job_list"
   ]
  },
  {
   "cell_type": "code",
   "execution_count": 5,
   "metadata": {},
   "outputs": [
    {
     "data": {
      "text/html": [
       "<div>\n",
       "<style scoped>\n",
       "    .dataframe tbody tr th:only-of-type {\n",
       "        vertical-align: middle;\n",
       "    }\n",
       "\n",
       "    .dataframe tbody tr th {\n",
       "        vertical-align: top;\n",
       "    }\n",
       "\n",
       "    .dataframe thead th {\n",
       "        text-align: right;\n",
       "    }\n",
       "</style>\n",
       "<table border=\"1\" class=\"dataframe\">\n",
       "  <thead>\n",
       "    <tr style=\"text-align: right;\">\n",
       "      <th></th>\n",
       "      <th>job_title_short</th>\n",
       "      <th>job_title</th>\n",
       "      <th>job_location</th>\n",
       "      <th>job_via</th>\n",
       "      <th>job_schedule_type</th>\n",
       "      <th>job_work_from_home</th>\n",
       "      <th>search_location</th>\n",
       "      <th>job_posted_date</th>\n",
       "      <th>job_no_degree_mention</th>\n",
       "      <th>job_health_insurance</th>\n",
       "      <th>job_country</th>\n",
       "      <th>salary_rate</th>\n",
       "      <th>salary_year_avg</th>\n",
       "      <th>salary_hour_avg</th>\n",
       "      <th>company_name</th>\n",
       "      <th>job_skills</th>\n",
       "      <th>job_type_skills</th>\n",
       "    </tr>\n",
       "  </thead>\n",
       "  <tbody>\n",
       "    <tr>\n",
       "      <th>92</th>\n",
       "      <td>Data Engineer</td>\n",
       "      <td>Remote - Data Engineer - Permanent - W2</td>\n",
       "      <td>Anywhere</td>\n",
       "      <td>via LinkedIn</td>\n",
       "      <td>Full-time</td>\n",
       "      <td>True</td>\n",
       "      <td>Illinois, United States</td>\n",
       "      <td>2023-02-21 13:29:59</td>\n",
       "      <td>False</td>\n",
       "      <td>True</td>\n",
       "      <td>United States</td>\n",
       "      <td>year</td>\n",
       "      <td>120000.0</td>\n",
       "      <td>NaN</td>\n",
       "      <td>Apex Systems</td>\n",
       "      <td>[sql, python]</td>\n",
       "      <td>{'programming': ['sql', 'python']}</td>\n",
       "    </tr>\n",
       "    <tr>\n",
       "      <th>100</th>\n",
       "      <td>Data Scientist</td>\n",
       "      <td>Data Scientist, Risk Data Mining - USDS</td>\n",
       "      <td>Mountain View, CA</td>\n",
       "      <td>via LinkedIn</td>\n",
       "      <td>Full-time</td>\n",
       "      <td>False</td>\n",
       "      <td>California, United States</td>\n",
       "      <td>2023-07-31 13:01:18</td>\n",
       "      <td>False</td>\n",
       "      <td>True</td>\n",
       "      <td>United States</td>\n",
       "      <td>year</td>\n",
       "      <td>228222.0</td>\n",
       "      <td>NaN</td>\n",
       "      <td>TikTok</td>\n",
       "      <td>[sql, r, python, express]</td>\n",
       "      <td>{'programming': ['sql', 'r', 'python'], 'webfr...</td>\n",
       "    </tr>\n",
       "    <tr>\n",
       "      <th>109</th>\n",
       "      <td>Data Analyst</td>\n",
       "      <td>Senior Supply Chain Analytics Analyst</td>\n",
       "      <td>Anywhere</td>\n",
       "      <td>via Get.It</td>\n",
       "      <td>Full-time</td>\n",
       "      <td>True</td>\n",
       "      <td>Illinois, United States</td>\n",
       "      <td>2023-10-12 13:02:19</td>\n",
       "      <td>False</td>\n",
       "      <td>True</td>\n",
       "      <td>United States</td>\n",
       "      <td>year</td>\n",
       "      <td>89000.0</td>\n",
       "      <td>NaN</td>\n",
       "      <td>Get It Recruit - Transportation</td>\n",
       "      <td>[python, r, alteryx, tableau]</td>\n",
       "      <td>{'analyst_tools': ['alteryx', 'tableau'], 'pro...</td>\n",
       "    </tr>\n",
       "    <tr>\n",
       "      <th>116</th>\n",
       "      <td>Data Scientist</td>\n",
       "      <td>Data Scientist</td>\n",
       "      <td>Anywhere</td>\n",
       "      <td>via LinkedIn</td>\n",
       "      <td>Full-time</td>\n",
       "      <td>True</td>\n",
       "      <td>Texas, United States</td>\n",
       "      <td>2023-10-04 13:04:23</td>\n",
       "      <td>False</td>\n",
       "      <td>False</td>\n",
       "      <td>United States</td>\n",
       "      <td>year</td>\n",
       "      <td>114000.0</td>\n",
       "      <td>NaN</td>\n",
       "      <td>4 Corner Resources</td>\n",
       "      <td>[r, python, sql, t-sql, hadoop, spark, tableau]</td>\n",
       "      <td>{'analyst_tools': ['tableau'], 'libraries': ['...</td>\n",
       "    </tr>\n",
       "    <tr>\n",
       "      <th>146</th>\n",
       "      <td>Data Engineer</td>\n",
       "      <td>Data Engineer Graduate (Real Time Communicatio...</td>\n",
       "      <td>Seattle, WA</td>\n",
       "      <td>via LinkedIn</td>\n",
       "      <td>Full-time</td>\n",
       "      <td>False</td>\n",
       "      <td>California, United States</td>\n",
       "      <td>2023-10-21 13:06:16</td>\n",
       "      <td>False</td>\n",
       "      <td>True</td>\n",
       "      <td>United States</td>\n",
       "      <td>year</td>\n",
       "      <td>129500.0</td>\n",
       "      <td>NaN</td>\n",
       "      <td>ByteDance</td>\n",
       "      <td>[golang, scala, python, java, hadoop, spark]</td>\n",
       "      <td>{'libraries': ['hadoop', 'spark'], 'programmin...</td>\n",
       "    </tr>\n",
       "    <tr>\n",
       "      <th>...</th>\n",
       "      <td>...</td>\n",
       "      <td>...</td>\n",
       "      <td>...</td>\n",
       "      <td>...</td>\n",
       "      <td>...</td>\n",
       "      <td>...</td>\n",
       "      <td>...</td>\n",
       "      <td>...</td>\n",
       "      <td>...</td>\n",
       "      <td>...</td>\n",
       "      <td>...</td>\n",
       "      <td>...</td>\n",
       "      <td>...</td>\n",
       "      <td>...</td>\n",
       "      <td>...</td>\n",
       "      <td>...</td>\n",
       "      <td>...</td>\n",
       "    </tr>\n",
       "    <tr>\n",
       "      <th>785563</th>\n",
       "      <td>Data Scientist</td>\n",
       "      <td>Data Scientist I/II (Model Risk Management &amp; M...</td>\n",
       "      <td>Pensacola, FL</td>\n",
       "      <td>via Navy Federal Credit Union - Talentify</td>\n",
       "      <td>Full-time</td>\n",
       "      <td>False</td>\n",
       "      <td>Florida, United States</td>\n",
       "      <td>2023-01-11 06:22:10</td>\n",
       "      <td>False</td>\n",
       "      <td>False</td>\n",
       "      <td>United States</td>\n",
       "      <td>year</td>\n",
       "      <td>136400.0</td>\n",
       "      <td>NaN</td>\n",
       "      <td>Navy Federal Credit Union</td>\n",
       "      <td>[r, python, matplotlib, ggplot2, spark, word, ...</td>\n",
       "      <td>{'analyst_tools': ['word', 'power bi', 'tablea...</td>\n",
       "    </tr>\n",
       "    <tr>\n",
       "      <th>785624</th>\n",
       "      <td>Data Engineer</td>\n",
       "      <td>Data Analytics Engineer (Hybrid)</td>\n",
       "      <td>Mt Prospect, IL</td>\n",
       "      <td>via Ai-Jobs.net</td>\n",
       "      <td>Full-time</td>\n",
       "      <td>False</td>\n",
       "      <td>Illinois, United States</td>\n",
       "      <td>2023-08-31 06:02:16</td>\n",
       "      <td>False</td>\n",
       "      <td>True</td>\n",
       "      <td>United States</td>\n",
       "      <td>year</td>\n",
       "      <td>139216.0</td>\n",
       "      <td>NaN</td>\n",
       "      <td>Bosch Group</td>\n",
       "      <td>[go, python, r, sql, oracle, windows, alteryx,...</td>\n",
       "      <td>{'analyst_tools': ['alteryx', 'power bi', 'tab...</td>\n",
       "    </tr>\n",
       "    <tr>\n",
       "      <th>785641</th>\n",
       "      <td>Data Engineer</td>\n",
       "      <td>Data Engineer</td>\n",
       "      <td>New York, NY</td>\n",
       "      <td>via Dice</td>\n",
       "      <td>Full-time</td>\n",
       "      <td>False</td>\n",
       "      <td>Georgia</td>\n",
       "      <td>2023-01-04 16:36:07</td>\n",
       "      <td>True</td>\n",
       "      <td>False</td>\n",
       "      <td>United States</td>\n",
       "      <td>year</td>\n",
       "      <td>150000.0</td>\n",
       "      <td>NaN</td>\n",
       "      <td>Engage Partners, Inc.</td>\n",
       "      <td>None</td>\n",
       "      <td>None</td>\n",
       "    </tr>\n",
       "    <tr>\n",
       "      <th>785648</th>\n",
       "      <td>Data Scientist</td>\n",
       "      <td>Director Data Scientist - Commercial Platforms...</td>\n",
       "      <td>Pleasant Hill, CA</td>\n",
       "      <td>via Ai-Jobs.net</td>\n",
       "      <td>Full-time</td>\n",
       "      <td>False</td>\n",
       "      <td>California, United States</td>\n",
       "      <td>2023-04-12 06:02:51</td>\n",
       "      <td>False</td>\n",
       "      <td>True</td>\n",
       "      <td>United States</td>\n",
       "      <td>year</td>\n",
       "      <td>221875.0</td>\n",
       "      <td>NaN</td>\n",
       "      <td>84.51°</td>\n",
       "      <td>[python, azure, snowflake, spark]</td>\n",
       "      <td>{'cloud': ['azure', 'snowflake'], 'libraries':...</td>\n",
       "    </tr>\n",
       "    <tr>\n",
       "      <th>785692</th>\n",
       "      <td>Data Scientist</td>\n",
       "      <td>Data Scientist- Hybrid Work Location</td>\n",
       "      <td>Dayton, OH</td>\n",
       "      <td>via Ai-Jobs.net</td>\n",
       "      <td>Full-time</td>\n",
       "      <td>False</td>\n",
       "      <td>Illinois, United States</td>\n",
       "      <td>2023-04-21 06:02:31</td>\n",
       "      <td>False</td>\n",
       "      <td>True</td>\n",
       "      <td>United States</td>\n",
       "      <td>year</td>\n",
       "      <td>157500.0</td>\n",
       "      <td>NaN</td>\n",
       "      <td>Tenet3</td>\n",
       "      <td>[python, matlab, r]</td>\n",
       "      <td>{'programming': ['python', 'matlab', 'r']}</td>\n",
       "    </tr>\n",
       "  </tbody>\n",
       "</table>\n",
       "<p>13464 rows × 17 columns</p>\n",
       "</div>"
      ],
      "text/plain": [
       "       job_title_short                                          job_title  \\\n",
       "92       Data Engineer            Remote - Data Engineer - Permanent - W2   \n",
       "100     Data Scientist            Data Scientist, Risk Data Mining - USDS   \n",
       "109       Data Analyst              Senior Supply Chain Analytics Analyst   \n",
       "116     Data Scientist                                     Data Scientist   \n",
       "146      Data Engineer  Data Engineer Graduate (Real Time Communicatio...   \n",
       "...                ...                                                ...   \n",
       "785563  Data Scientist  Data Scientist I/II (Model Risk Management & M...   \n",
       "785624   Data Engineer                   Data Analytics Engineer (Hybrid)   \n",
       "785641   Data Engineer                                      Data Engineer   \n",
       "785648  Data Scientist  Director Data Scientist - Commercial Platforms...   \n",
       "785692  Data Scientist               Data Scientist- Hybrid Work Location   \n",
       "\n",
       "             job_location                                    job_via  \\\n",
       "92               Anywhere                               via LinkedIn   \n",
       "100     Mountain View, CA                               via LinkedIn   \n",
       "109              Anywhere                                 via Get.It   \n",
       "116              Anywhere                               via LinkedIn   \n",
       "146           Seattle, WA                               via LinkedIn   \n",
       "...                   ...                                        ...   \n",
       "785563      Pensacola, FL  via Navy Federal Credit Union - Talentify   \n",
       "785624    Mt Prospect, IL                            via Ai-Jobs.net   \n",
       "785641       New York, NY                                   via Dice   \n",
       "785648  Pleasant Hill, CA                            via Ai-Jobs.net   \n",
       "785692         Dayton, OH                            via Ai-Jobs.net   \n",
       "\n",
       "       job_schedule_type  job_work_from_home            search_location  \\\n",
       "92             Full-time                True    Illinois, United States   \n",
       "100            Full-time               False  California, United States   \n",
       "109            Full-time                True    Illinois, United States   \n",
       "116            Full-time                True       Texas, United States   \n",
       "146            Full-time               False  California, United States   \n",
       "...                  ...                 ...                        ...   \n",
       "785563         Full-time               False     Florida, United States   \n",
       "785624         Full-time               False    Illinois, United States   \n",
       "785641         Full-time               False                    Georgia   \n",
       "785648         Full-time               False  California, United States   \n",
       "785692         Full-time               False    Illinois, United States   \n",
       "\n",
       "           job_posted_date  job_no_degree_mention  job_health_insurance  \\\n",
       "92     2023-02-21 13:29:59                  False                  True   \n",
       "100    2023-07-31 13:01:18                  False                  True   \n",
       "109    2023-10-12 13:02:19                  False                  True   \n",
       "116    2023-10-04 13:04:23                  False                 False   \n",
       "146    2023-10-21 13:06:16                  False                  True   \n",
       "...                    ...                    ...                   ...   \n",
       "785563 2023-01-11 06:22:10                  False                 False   \n",
       "785624 2023-08-31 06:02:16                  False                  True   \n",
       "785641 2023-01-04 16:36:07                   True                 False   \n",
       "785648 2023-04-12 06:02:51                  False                  True   \n",
       "785692 2023-04-21 06:02:31                  False                  True   \n",
       "\n",
       "          job_country salary_rate  salary_year_avg  salary_hour_avg  \\\n",
       "92      United States        year         120000.0              NaN   \n",
       "100     United States        year         228222.0              NaN   \n",
       "109     United States        year          89000.0              NaN   \n",
       "116     United States        year         114000.0              NaN   \n",
       "146     United States        year         129500.0              NaN   \n",
       "...               ...         ...              ...              ...   \n",
       "785563  United States        year         136400.0              NaN   \n",
       "785624  United States        year         139216.0              NaN   \n",
       "785641  United States        year         150000.0              NaN   \n",
       "785648  United States        year         221875.0              NaN   \n",
       "785692  United States        year         157500.0              NaN   \n",
       "\n",
       "                           company_name  \\\n",
       "92                         Apex Systems   \n",
       "100                              TikTok   \n",
       "109     Get It Recruit - Transportation   \n",
       "116                  4 Corner Resources   \n",
       "146                           ByteDance   \n",
       "...                                 ...   \n",
       "785563        Navy Federal Credit Union   \n",
       "785624                      Bosch Group   \n",
       "785641            Engage Partners, Inc.   \n",
       "785648                           84.51°   \n",
       "785692                           Tenet3   \n",
       "\n",
       "                                               job_skills  \\\n",
       "92                                          [sql, python]   \n",
       "100                             [sql, r, python, express]   \n",
       "109                         [python, r, alteryx, tableau]   \n",
       "116       [r, python, sql, t-sql, hadoop, spark, tableau]   \n",
       "146          [golang, scala, python, java, hadoop, spark]   \n",
       "...                                                   ...   \n",
       "785563  [r, python, matplotlib, ggplot2, spark, word, ...   \n",
       "785624  [go, python, r, sql, oracle, windows, alteryx,...   \n",
       "785641                                               None   \n",
       "785648                  [python, azure, snowflake, spark]   \n",
       "785692                                [python, matlab, r]   \n",
       "\n",
       "                                          job_type_skills  \n",
       "92                     {'programming': ['sql', 'python']}  \n",
       "100     {'programming': ['sql', 'r', 'python'], 'webfr...  \n",
       "109     {'analyst_tools': ['alteryx', 'tableau'], 'pro...  \n",
       "116     {'analyst_tools': ['tableau'], 'libraries': ['...  \n",
       "146     {'libraries': ['hadoop', 'spark'], 'programmin...  \n",
       "...                                                   ...  \n",
       "785563  {'analyst_tools': ['word', 'power bi', 'tablea...  \n",
       "785624  {'analyst_tools': ['alteryx', 'power bi', 'tab...  \n",
       "785641                                               None  \n",
       "785648  {'cloud': ['azure', 'snowflake'], 'libraries':...  \n",
       "785692         {'programming': ['python', 'matlab', 'r']}  \n",
       "\n",
       "[13464 rows x 17 columns]"
      ]
     },
     "execution_count": 5,
     "metadata": {},
     "output_type": "execute_result"
    }
   ],
   "source": [
    "df_US_top6 = df_US[df_US['job_title_short'].isin(job_list)].copy()\n",
    "df_US_top6"
   ]
  },
  {
   "cell_type": "code",
   "execution_count": 6,
   "metadata": {},
   "outputs": [
    {
     "data": {
      "text/plain": [
       "Index(['Senior Data Engineer', 'Data Scientist', 'Software Engineer',\n",
       "       'Data Engineer', 'Business Analyst', 'Data Analyst'],\n",
       "      dtype='object', name='job_title_short')"
      ]
     },
     "execution_count": 6,
     "metadata": {},
     "output_type": "execute_result"
    }
   ],
   "source": [
    "job_order = df_US_top6.groupby('job_title_short')['salary_year_avg'].mean().sort_values(ascending=False).index\n",
    "job_order\n",
    "\n"
   ]
  },
  {
   "cell_type": "code",
   "execution_count": 7,
   "metadata": {},
   "outputs": [
    {
     "data": {
      "image/png": "[encoded data removed]",
      "text/plain": [
       "<Figure size 640x480 with 1 Axes>"
      ]
     },
     "metadata": {},
     "output_type": "display_data"
    }
   ],
   "source": [
    "sns.boxplot(data=df_US_top6, x='salary_year_avg', y='job_title_short', order=job_order)\n",
    "sns.set_theme(style='ticks')\n",
    "sns.despine()\n",
    "\n",
    "# this is all the same\n",
    "plt.title('Salary Distributions of Data Jobs in the US')\n",
    "plt.xlabel('Yearly Salary (USD)')\n",
    "plt.ylabel('')\n",
    "plt.xlim(0, 600000) \n",
    "ticks_x = plt.FuncFormatter(lambda y, pos: f'${int(y/1000)}K')\n",
    "plt.gca().xaxis.set_major_formatter(ticks_x)\n",
    "plt.show()"
   ]
  },
  {
   "cell_type": "code",
   "execution_count": 8,
   "metadata": {},
   "outputs": [],
   "source": [
    "df_DA_US = df[(df['job_title_short'] == 'Data Analyst') & (df['job_country'] == 'United States')].copy()\n",
    "df_DA_US = df_DA_US.dropna(subset = 'salary_year_avg')"
   ]
  },
  {
   "cell_type": "code",
   "execution_count": 9,
   "metadata": {},
   "outputs": [
    {
     "data": {
      "text/html": [
       "<div>\n",
       "<style scoped>\n",
       "    .dataframe tbody tr th:only-of-type {\n",
       "        vertical-align: middle;\n",
       "    }\n",
       "\n",
       "    .dataframe tbody tr th {\n",
       "        vertical-align: top;\n",
       "    }\n",
       "\n",
       "    .dataframe thead th {\n",
       "        text-align: right;\n",
       "    }\n",
       "</style>\n",
       "<table border=\"1\" class=\"dataframe\">\n",
       "  <thead>\n",
       "    <tr style=\"text-align: right;\">\n",
       "      <th></th>\n",
       "      <th>job_skills</th>\n",
       "      <th>salary_year_avg</th>\n",
       "    </tr>\n",
       "  </thead>\n",
       "  <tbody>\n",
       "    <tr>\n",
       "      <th>109</th>\n",
       "      <td>python</td>\n",
       "      <td>89000.0</td>\n",
       "    </tr>\n",
       "    <tr>\n",
       "      <th>109</th>\n",
       "      <td>r</td>\n",
       "      <td>89000.0</td>\n",
       "    </tr>\n",
       "    <tr>\n",
       "      <th>109</th>\n",
       "      <td>alteryx</td>\n",
       "      <td>89000.0</td>\n",
       "    </tr>\n",
       "    <tr>\n",
       "      <th>109</th>\n",
       "      <td>tableau</td>\n",
       "      <td>89000.0</td>\n",
       "    </tr>\n",
       "    <tr>\n",
       "      <th>180</th>\n",
       "      <td>excel</td>\n",
       "      <td>90250.0</td>\n",
       "    </tr>\n",
       "  </tbody>\n",
       "</table>\n",
       "</div>"
      ],
      "text/plain": [
       "    job_skills  salary_year_avg\n",
       "109     python          89000.0\n",
       "109          r          89000.0\n",
       "109    alteryx          89000.0\n",
       "109    tableau          89000.0\n",
       "180      excel          90250.0"
      ]
     },
     "execution_count": 9,
     "metadata": {},
     "output_type": "execute_result"
    }
   ],
   "source": [
    "df_DA_US = df_DA_US.explode('job_skills')\n",
    "df_DA_US[['job_skills', 'salary_year_avg']].head(5)"
   ]
  },
  {
   "cell_type": "code",
   "execution_count": 10,
   "metadata": {},
   "outputs": [
    {
     "data": {
      "text/html": [
       "<div>\n",
       "<style scoped>\n",
       "    .dataframe tbody tr th:only-of-type {\n",
       "        vertical-align: middle;\n",
       "    }\n",
       "\n",
       "    .dataframe tbody tr th {\n",
       "        vertical-align: top;\n",
       "    }\n",
       "\n",
       "    .dataframe thead th {\n",
       "        text-align: right;\n",
       "    }\n",
       "</style>\n",
       "<table border=\"1\" class=\"dataframe\">\n",
       "  <thead>\n",
       "    <tr style=\"text-align: right;\">\n",
       "      <th></th>\n",
       "      <th>count</th>\n",
       "      <th>median</th>\n",
       "    </tr>\n",
       "    <tr>\n",
       "      <th>job_skills</th>\n",
       "      <th></th>\n",
       "      <th></th>\n",
       "    </tr>\n",
       "  </thead>\n",
       "  <tbody>\n",
       "    <tr>\n",
       "      <th>dplyr</th>\n",
       "      <td>2</td>\n",
       "      <td>196250.0</td>\n",
       "    </tr>\n",
       "    <tr>\n",
       "      <th>bitbucket</th>\n",
       "      <td>3</td>\n",
       "      <td>189000.0</td>\n",
       "    </tr>\n",
       "    <tr>\n",
       "      <th>gitlab</th>\n",
       "      <td>3</td>\n",
       "      <td>186000.0</td>\n",
       "    </tr>\n",
       "    <tr>\n",
       "      <th>solidity</th>\n",
       "      <td>1</td>\n",
       "      <td>179000.0</td>\n",
       "    </tr>\n",
       "    <tr>\n",
       "      <th>hugging face</th>\n",
       "      <td>1</td>\n",
       "      <td>175000.0</td>\n",
       "    </tr>\n",
       "    <tr>\n",
       "      <th>couchbase</th>\n",
       "      <td>1</td>\n",
       "      <td>160515.0</td>\n",
       "    </tr>\n",
       "    <tr>\n",
       "      <th>ansible</th>\n",
       "      <td>1</td>\n",
       "      <td>159640.0</td>\n",
       "    </tr>\n",
       "    <tr>\n",
       "      <th>mxnet</th>\n",
       "      <td>2</td>\n",
       "      <td>149000.0</td>\n",
       "    </tr>\n",
       "    <tr>\n",
       "      <th>cassandra</th>\n",
       "      <td>6</td>\n",
       "      <td>148250.0</td>\n",
       "    </tr>\n",
       "    <tr>\n",
       "      <th>vmware</th>\n",
       "      <td>1</td>\n",
       "      <td>147500.0</td>\n",
       "    </tr>\n",
       "  </tbody>\n",
       "</table>\n",
       "</div>"
      ],
      "text/plain": [
       "              count    median\n",
       "job_skills                   \n",
       "dplyr             2  196250.0\n",
       "bitbucket         3  189000.0\n",
       "gitlab            3  186000.0\n",
       "solidity          1  179000.0\n",
       "hugging face      1  175000.0\n",
       "couchbase         1  160515.0\n",
       "ansible           1  159640.0\n",
       "mxnet             2  149000.0\n",
       "cassandra         6  148250.0\n",
       "vmware            1  147500.0"
      ]
     },
     "execution_count": 10,
     "metadata": {},
     "output_type": "execute_result"
    }
   ],
   "source": [
    "df_DA_US_top_pay = df_DA_US.groupby('job_skills')['salary_year_avg'].agg(['count', 'median']).sort_values(by = 'median', ascending = False)\n",
    "df_DA_US_top_pay = df_DA_US_top_pay.head(10)\n",
    "df_DA_US_top_pay"
   ]
  },
  {
   "cell_type": "code",
   "execution_count": 11,
   "metadata": {},
   "outputs": [
    {
     "data": {
      "text/html": [
       "<div>\n",
       "<style scoped>\n",
       "    .dataframe tbody tr th:only-of-type {\n",
       "        vertical-align: middle;\n",
       "    }\n",
       "\n",
       "    .dataframe tbody tr th {\n",
       "        vertical-align: top;\n",
       "    }\n",
       "\n",
       "    .dataframe thead th {\n",
       "        text-align: right;\n",
       "    }\n",
       "</style>\n",
       "<table border=\"1\" class=\"dataframe\">\n",
       "  <thead>\n",
       "    <tr style=\"text-align: right;\">\n",
       "      <th></th>\n",
       "      <th>count</th>\n",
       "      <th>median</th>\n",
       "    </tr>\n",
       "    <tr>\n",
       "      <th>job_skills</th>\n",
       "      <th></th>\n",
       "      <th></th>\n",
       "    </tr>\n",
       "  </thead>\n",
       "  <tbody>\n",
       "    <tr>\n",
       "      <th>python</th>\n",
       "      <td>1431</td>\n",
       "      <td>97500.00</td>\n",
       "    </tr>\n",
       "    <tr>\n",
       "      <th>tableau</th>\n",
       "      <td>1364</td>\n",
       "      <td>92875.00</td>\n",
       "    </tr>\n",
       "    <tr>\n",
       "      <th>r</th>\n",
       "      <td>893</td>\n",
       "      <td>92500.00</td>\n",
       "    </tr>\n",
       "    <tr>\n",
       "      <th>sql server</th>\n",
       "      <td>286</td>\n",
       "      <td>92500.00</td>\n",
       "    </tr>\n",
       "    <tr>\n",
       "      <th>sql</th>\n",
       "      <td>2508</td>\n",
       "      <td>91000.00</td>\n",
       "    </tr>\n",
       "    <tr>\n",
       "      <th>sas</th>\n",
       "      <td>926</td>\n",
       "      <td>90000.00</td>\n",
       "    </tr>\n",
       "    <tr>\n",
       "      <th>power bi</th>\n",
       "      <td>838</td>\n",
       "      <td>90000.00</td>\n",
       "    </tr>\n",
       "    <tr>\n",
       "      <th>powerpoint</th>\n",
       "      <td>462</td>\n",
       "      <td>85000.00</td>\n",
       "    </tr>\n",
       "    <tr>\n",
       "      <th>excel</th>\n",
       "      <td>1808</td>\n",
       "      <td>84392.00</td>\n",
       "    </tr>\n",
       "    <tr>\n",
       "      <th>word</th>\n",
       "      <td>461</td>\n",
       "      <td>81194.75</td>\n",
       "    </tr>\n",
       "  </tbody>\n",
       "</table>\n",
       "</div>"
      ],
      "text/plain": [
       "            count    median\n",
       "job_skills                 \n",
       "python       1431  97500.00\n",
       "tableau      1364  92875.00\n",
       "r             893  92500.00\n",
       "sql server    286  92500.00\n",
       "sql          2508  91000.00\n",
       "sas           926  90000.00\n",
       "power bi      838  90000.00\n",
       "powerpoint    462  85000.00\n",
       "excel        1808  84392.00\n",
       "word          461  81194.75"
      ]
     },
     "execution_count": 11,
     "metadata": {},
     "output_type": "execute_result"
    }
   ],
   "source": [
    "df_DA_US_top_skills = df_DA_US.groupby('job_skills')['salary_year_avg'].agg(['count', 'median']).sort_values(by = 'count', ascending = False)\n",
    "df_DA_US_top_skills = df_DA_US_top_skills.head(10).sort_values(by = 'median', ascending = False)\n",
    "df_DA_US_top_skills"
   ]
  },
  {
   "cell_type": "code",
   "execution_count": 12,
   "metadata": {},
   "outputs": [
    {
     "data": {
      "image/png": "[encoded data removed]",
      "text/plain": [
       "<Figure size 640x480 with 2 Axes>"
      ]
     },
     "metadata": {},
     "output_type": "display_data"
    }
   ],
   "source": [
    "fig, ax = plt.subplots(2, 1)  \n",
    "\n",
    "# Top 10 Highest Paid Skills for Data Analysts\n",
    "sns.barplot(data=df_DA_US_top_pay, x='median', y=df_DA_US_top_pay.index, hue='median', ax=ax[0], palette='dark:b_r')\n",
    "ax[0].legend().remove()\n",
    "# original code:\n",
    "# df_DA_top_pay[::-1].plot(kind='barh', y='median', ax=ax[0], legend=False) \n",
    "ax[0].set_title('Highest Paid Skills for Data Analysts in the US')\n",
    "ax[0].set_ylabel('')\n",
    "ax[0].set_xlabel('')\n",
    "ax[0].xaxis.set_major_formatter(plt.FuncFormatter(lambda x, _: f'${int(x/1000)}K'))\n",
    "\n",
    "\n",
    "# Top 10 Most In-Demand Skills for Data Analysts')\n",
    "sns.barplot(data=df_DA_US_top_skills, x='median', y=df_DA_US_top_skills.index, hue='median', ax=ax[1], palette='light:b')\n",
    "ax[1].legend().remove()\n",
    "# original code:\n",
    "# df_DA_skills[::-1].plot(kind='barh', y='median', ax=ax[1], legend=False)\n",
    "ax[1].set_title('Most In-Demand Skills for Data Analysts in the US')\n",
    "ax[1].set_ylabel('')\n",
    "ax[1].set_xlabel('Median Salary (USD)')\n",
    "ax[1].set_xlim(ax[0].get_xlim())  # Set the same x-axis limits as the first plot\n",
    "ax[1].xaxis.set_major_formatter(plt.FuncFormatter(lambda x, _: f'${int(x/1000)}K'))\n",
    "\n",
    "sns.set_theme(style='ticks')\n",
    "plt.tight_layout()\n",
    "plt.show()\n"
   ]
  },
  {
   "cell_type": "code",
   "execution_count": 35,
   "metadata": {},
   "outputs": [
    {
     "data": {
      "application/vnd.plotly.v1+json": {
       "config": {
        "plotlyServerURL": "https://plot.ly"
       },
       "data": [
        {
         "alignmentgroup": "True",
         "hovertemplate": "median=%{x}<br>job_skills=%{y}<extra></extra>",
         "legendgroup": "",
         "marker": {
          "color": "lightblue",
          "pattern": {
           "shape": ""
          }
         },
         "name": "",
         "offsetgroup": "",
         "orientation": "h",
         "showlegend": false,
         "textposition": "outside",
         "texttemplate": "%{x:.2s}",
         "type": "bar",
         "x": [
          196250,
          189000,
          186000,
          179000,
          175000,
          160515,
          159640,
          149000,
          148250,
          147500
         ],
         "xaxis": "x",
         "y": [
          "dplyr",
          "bitbucket",
          "gitlab",
          "solidity",
          "hugging face",
          "couchbase",
          "ansible",
          "mxnet",
          "cassandra",
          "vmware"
         ],
         "yaxis": "y"
        }
       ],
       "layout": {
        "barmode": "relative",
        "legend": {
         "tracegroupgap": 0
        },
        "template": {
         "data": {
          "bar": [
           {
            "error_x": {
             "color": "#2a3f5f"
            },
            "error_y": {
             "color": "#2a3f5f"
            },
            "marker": {
             "line": {
              "color": "#E5ECF6",
              "width": 0.5
             },
             "pattern": {
              "fillmode": "overlay",
              "size": 10,
              "solidity": 0.2
             }
            },
            "type": "bar"
           }
          ],
          "barpolar": [
           {
            "marker": {
             "line": {
              "color": "#E5ECF6",
              "width": 0.5
             },
             "pattern": {
              "fillmode": "overlay",
              "size": 10,
              "solidity": 0.2
             }
            },
            "type": "barpolar"
           }
          ],
          "carpet": [
           {
            "aaxis": {
             "endlinecolor": "#2a3f5f",
             "gridcolor": "white",
             "linecolor": "white",
             "minorgridcolor": "white",
             "startlinecolor": "#2a3f5f"
            },
            "baxis": {
             "endlinecolor": "#2a3f5f",
             "gridcolor": "white",
             "linecolor": "white",
             "minorgridcolor": "white",
             "startlinecolor": "#2a3f5f"
            },
            "type": "carpet"
           }
          ],
          "choropleth": [
           {
            "colorbar": {
             "outlinewidth": 0,
             "ticks": ""
            },
            "type": "choropleth"
           }
          ],
          "contour": [
           {
            "colorbar": {
             "outlinewidth": 0,
             "ticks": ""
            },
            "colorscale": [
             [
              0,
              "#0d0887"
             ],
             [
              0.1111111111111111,
              "#46039f"
             ],
             [
              0.2222222222222222,
              "#7201a8"
             ],
             [
              0.3333333333333333,
              "#9c179e"
             ],
             [
              0.4444444444444444,
              "#bd3786"
             ],
             [
              0.5555555555555556,
              "#d8576b"
             ],
             [
              0.6666666666666666,
              "#ed7953"
             ],
             [
              0.7777777777777778,
              "#fb9f3a"
             ],
             [
              0.8888888888888888,
              "#fdca26"
             ],
             [
              1,
              "#f0f921"
             ]
            ],
            "type": "contour"
           }
          ],
          "contourcarpet": [
           {
            "colorbar": {
             "outlinewidth": 0,
             "ticks": ""
            },
            "type": "contourcarpet"
           }
          ],
          "heatmap": [
           {
            "colorbar": {
             "outlinewidth": 0,
             "ticks": ""
            },
            "colorscale": [
             [
              0,
              "#0d0887"
             ],
             [
              0.1111111111111111,
              "#46039f"
             ],
             [
              0.2222222222222222,
              "#7201a8"
             ],
             [
              0.3333333333333333,
              "#9c179e"
             ],
             [
              0.4444444444444444,
              "#bd3786"
             ],
             [
              0.5555555555555556,
              "#d8576b"
             ],
             [
              0.6666666666666666,
              "#ed7953"
             ],
             [
              0.7777777777777778,
              "#fb9f3a"
             ],
             [
              0.8888888888888888,
              "#fdca26"
             ],
             [
              1,
              "#f0f921"
             ]
            ],
            "type": "heatmap"
           }
          ],
          "heatmapgl": [
           {
            "colorbar": {
             "outlinewidth": 0,
             "ticks": ""
            },
            "colorscale": [
             [
              0,
              "#0d0887"
             ],
             [
              0.1111111111111111,
              "#46039f"
             ],
             [
              0.2222222222222222,
              "#7201a8"
             ],
             [
              0.3333333333333333,
              "#9c179e"
             ],
             [
              0.4444444444444444,
              "#bd3786"
             ],
             [
              0.5555555555555556,
              "#d8576b"
             ],
             [
              0.6666666666666666,
              "#ed7953"
             ],
             [
              0.7777777777777778,
              "#fb9f3a"
             ],
             [
              0.8888888888888888,
              "#fdca26"
             ],
             [
              1,
              "#f0f921"
             ]
            ],
            "type": "heatmapgl"
           }
          ],
          "histogram": [
           {
            "marker": {
             "pattern": {
              "fillmode": "overlay",
              "size": 10,
              "solidity": 0.2
             }
            },
            "type": "histogram"
           }
          ],
          "histogram2d": [
           {
            "colorbar": {
             "outlinewidth": 0,
             "ticks": ""
            },
            "colorscale": [
             [
              0,
              "#0d0887"
             ],
             [
              0.1111111111111111,
              "#46039f"
             ],
             [
              0.2222222222222222,
              "#7201a8"
             ],
             [
              0.3333333333333333,
              "#9c179e"
             ],
             [
              0.4444444444444444,
              "#bd3786"
             ],
             [
              0.5555555555555556,
              "#d8576b"
             ],
             [
              0.6666666666666666,
              "#ed7953"
             ],
             [
              0.7777777777777778,
              "#fb9f3a"
             ],
             [
              0.8888888888888888,
              "#fdca26"
             ],
             [
              1,
              "#f0f921"
             ]
            ],
            "type": "histogram2d"
           }
          ],
          "histogram2dcontour": [
           {
            "colorbar": {
             "outlinewidth": 0,
             "ticks": ""
            },
            "colorscale": [
             [
              0,
              "#0d0887"
             ],
             [
              0.1111111111111111,
              "#46039f"
             ],
             [
              0.2222222222222222,
              "#7201a8"
             ],
             [
              0.3333333333333333,
              "#9c179e"
             ],
             [
              0.4444444444444444,
              "#bd3786"
             ],
             [
              0.5555555555555556,
              "#d8576b"
             ],
             [
              0.6666666666666666,
              "#ed7953"
             ],
             [
              0.7777777777777778,
              "#fb9f3a"
             ],
             [
              0.8888888888888888,
              "#fdca26"
             ],
             [
              1,
              "#f0f921"
             ]
            ],
            "type": "histogram2dcontour"
           }
          ],
          "mesh3d": [
           {
            "colorbar": {
             "outlinewidth": 0,
             "ticks": ""
            },
            "type": "mesh3d"
           }
          ],
          "parcoords": [
           {
            "line": {
             "colorbar": {
              "outlinewidth": 0,
              "ticks": ""
             }
            },
            "type": "parcoords"
           }
          ],
          "pie": [
           {
            "automargin": true,
            "type": "pie"
           }
          ],
          "scatter": [
           {
            "fillpattern": {
             "fillmode": "overlay",
             "size": 10,
             "solidity": 0.2
            },
            "type": "scatter"
           }
          ],
          "scatter3d": [
           {
            "line": {
             "colorbar": {
              "outlinewidth": 0,
              "ticks": ""
             }
            },
            "marker": {
             "colorbar": {
              "outlinewidth": 0,
              "ticks": ""
             }
            },
            "type": "scatter3d"
           }
          ],
          "scattercarpet": [
           {
            "marker": {
             "colorbar": {
              "outlinewidth": 0,
              "ticks": ""
             }
            },
            "type": "scattercarpet"
           }
          ],
          "scattergeo": [
           {
            "marker": {
             "colorbar": {
              "outlinewidth": 0,
              "ticks": ""
             }
            },
            "type": "scattergeo"
           }
          ],
          "scattergl": [
           {
            "marker": {
             "colorbar": {
              "outlinewidth": 0,
              "ticks": ""
             }
            },
            "type": "scattergl"
           }
          ],
          "scattermapbox": [
           {
            "marker": {
             "colorbar": {
              "outlinewidth": 0,
              "ticks": ""
             }
            },
            "type": "scattermapbox"
           }
          ],
          "scatterpolar": [
           {
            "marker": {
             "colorbar": {
              "outlinewidth": 0,
              "ticks": ""
             }
            },
            "type": "scatterpolar"
           }
          ],
          "scatterpolargl": [
           {
            "marker": {
             "colorbar": {
              "outlinewidth": 0,
              "ticks": ""
             }
            },
            "type": "scatterpolargl"
           }
          ],
          "scatterternary": [
           {
            "marker": {
             "colorbar": {
              "outlinewidth": 0,
              "ticks": ""
             }
            },
            "type": "scatterternary"
           }
          ],
          "surface": [
           {
            "colorbar": {
             "outlinewidth": 0,
             "ticks": ""
            },
            "colorscale": [
             [
              0,
              "#0d0887"
             ],
             [
              0.1111111111111111,
              "#46039f"
             ],
             [
              0.2222222222222222,
              "#7201a8"
             ],
             [
              0.3333333333333333,
              "#9c179e"
             ],
             [
              0.4444444444444444,
              "#bd3786"
             ],
             [
              0.5555555555555556,
              "#d8576b"
             ],
             [
              0.6666666666666666,
              "#ed7953"
             ],
             [
              0.7777777777777778,
              "#fb9f3a"
             ],
             [
              0.8888888888888888,
              "#fdca26"
             ],
             [
              1,
              "#f0f921"
             ]
            ],
            "type": "surface"
           }
          ],
          "table": [
           {
            "cells": {
             "fill": {
              "color": "#EBF0F8"
             },
             "line": {
              "color": "white"
             }
            },
            "header": {
             "fill": {
              "color": "#C8D4E3"
             },
             "line": {
              "color": "white"
             }
            },
            "type": "table"
           }
          ]
         },
         "layout": {
          "annotationdefaults": {
           "arrowcolor": "#2a3f5f",
           "arrowhead": 0,
           "arrowwidth": 1
          },
          "autotypenumbers": "strict",
          "coloraxis": {
           "colorbar": {
            "outlinewidth": 0,
            "ticks": ""
           }
          },
          "colorscale": {
           "diverging": [
            [
             0,
             "#8e0152"
            ],
            [
             0.1,
             "#c51b7d"
            ],
            [
             0.2,
             "#de77ae"
            ],
            [
             0.3,
             "#f1b6da"
            ],
            [
             0.4,
             "#fde0ef"
            ],
            [
             0.5,
             "#f7f7f7"
            ],
            [
             0.6,
             "#e6f5d0"
            ],
            [
             0.7,
             "#b8e186"
            ],
            [
             0.8,
             "#7fbc41"
            ],
            [
             0.9,
             "#4d9221"
            ],
            [
             1,
             "#276419"
            ]
           ],
           "sequential": [
            [
             0,
             "#0d0887"
            ],
            [
             0.1111111111111111,
             "#46039f"
            ],
            [
             0.2222222222222222,
             "#7201a8"
            ],
            [
             0.3333333333333333,
             "#9c179e"
            ],
            [
             0.4444444444444444,
             "#bd3786"
            ],
            [
             0.5555555555555556,
             "#d8576b"
            ],
            [
             0.6666666666666666,
             "#ed7953"
            ],
            [
             0.7777777777777778,
             "#fb9f3a"
            ],
            [
             0.8888888888888888,
             "#fdca26"
            ],
            [
             1,
             "#f0f921"
            ]
           ],
           "sequentialminus": [
            [
             0,
             "#0d0887"
            ],
            [
             0.1111111111111111,
             "#46039f"
            ],
            [
             0.2222222222222222,
             "#7201a8"
            ],
            [
             0.3333333333333333,
             "#9c179e"
            ],
            [
             0.4444444444444444,
             "#bd3786"
            ],
            [
             0.5555555555555556,
             "#d8576b"
            ],
            [
             0.6666666666666666,
             "#ed7953"
            ],
            [
             0.7777777777777778,
             "#fb9f3a"
            ],
            [
             0.8888888888888888,
             "#fdca26"
            ],
            [
             1,
             "#f0f921"
            ]
           ]
          },
          "colorway": [
           "#636efa",
           "#EF553B",
           "#00cc96",
           "#ab63fa",
           "#FFA15A",
           "#19d3f3",
           "#FF6692",
           "#B6E880",
           "#FF97FF",
           "#FECB52"
          ],
          "font": {
           "color": "#2a3f5f"
          },
          "geo": {
           "bgcolor": "white",
           "lakecolor": "white",
           "landcolor": "#E5ECF6",
           "showlakes": true,
           "showland": true,
           "subunitcolor": "white"
          },
          "hoverlabel": {
           "align": "left"
          },
          "hovermode": "closest",
          "mapbox": {
           "style": "light"
          },
          "paper_bgcolor": "white",
          "plot_bgcolor": "#E5ECF6",
          "polar": {
           "angularaxis": {
            "gridcolor": "white",
            "linecolor": "white",
            "ticks": ""
           },
           "bgcolor": "#E5ECF6",
           "radialaxis": {
            "gridcolor": "white",
            "linecolor": "white",
            "ticks": ""
           }
          },
          "scene": {
           "xaxis": {
            "backgroundcolor": "#E5ECF6",
            "gridcolor": "white",
            "gridwidth": 2,
            "linecolor": "white",
            "showbackground": true,
            "ticks": "",
            "zerolinecolor": "white"
           },
           "yaxis": {
            "backgroundcolor": "#E5ECF6",
            "gridcolor": "white",
            "gridwidth": 2,
            "linecolor": "white",
            "showbackground": true,
            "ticks": "",
            "zerolinecolor": "white"
           },
           "zaxis": {
            "backgroundcolor": "#E5ECF6",
            "gridcolor": "white",
            "gridwidth": 2,
            "linecolor": "white",
            "showbackground": true,
            "ticks": "",
            "zerolinecolor": "white"
           }
          },
          "shapedefaults": {
           "line": {
            "color": "#2a3f5f"
           }
          },
          "ternary": {
           "aaxis": {
            "gridcolor": "white",
            "linecolor": "white",
            "ticks": ""
           },
           "baxis": {
            "gridcolor": "white",
            "linecolor": "white",
            "ticks": ""
           },
           "bgcolor": "#E5ECF6",
           "caxis": {
            "gridcolor": "white",
            "linecolor": "white",
            "ticks": ""
           }
          },
          "title": {
           "x": 0.05
          },
          "xaxis": {
           "automargin": true,
           "gridcolor": "white",
           "linecolor": "white",
           "ticks": "",
           "title": {
            "standoff": 15
           },
           "zerolinecolor": "white",
           "zerolinewidth": 2
          },
          "yaxis": {
           "automargin": true,
           "gridcolor": "white",
           "linecolor": "white",
           "ticks": "",
           "title": {
            "standoff": 15
           },
           "zerolinecolor": "white",
           "zerolinewidth": 2
          }
         }
        },
        "title": {
         "text": "Highest Paid Skills for Data Analysts in the US"
        },
        "xaxis": {
         "anchor": "y",
         "domain": [
          0,
          1
         ],
         "tickformat": "$,.0f",
         "title": {
          "text": "median"
         }
        },
        "yaxis": {
         "anchor": "x",
         "domain": [
          0,
          1
         ],
         "title": {
          "text": "job_skills"
         }
        }
       }
      }
     },
     "metadata": {},
     "output_type": "display_data"
    },
    {
     "data": {
      "application/vnd.plotly.v1+json": {
       "config": {
        "plotlyServerURL": "https://plot.ly"
       },
       "data": [
        {
         "alignmentgroup": "True",
         "hovertemplate": "median=%{x}<br>job_skills=%{y}<extra></extra>",
         "legendgroup": "",
         "marker": {
          "color": "gray",
          "pattern": {
           "shape": ""
          }
         },
         "name": "",
         "offsetgroup": "",
         "orientation": "h",
         "showlegend": false,
         "textposition": "outside",
         "texttemplate": "%{x}",
         "type": "bar",
         "x": [
          81194.75,
          92875,
          92500,
          91000,
          90000,
          92500,
          97500,
          85000,
          90000,
          84392
         ],
         "xaxis": "x",
         "y": [
          "word",
          "tableau",
          "sql server",
          "sql",
          "sas",
          "r",
          "python",
          "powerpoint",
          "power bi",
          "excel"
         ],
         "yaxis": "y"
        }
       ],
       "layout": {
        "barmode": "relative",
        "legend": {
         "tracegroupgap": 0
        },
        "template": {
         "data": {
          "bar": [
           {
            "error_x": {
             "color": "#2a3f5f"
            },
            "error_y": {
             "color": "#2a3f5f"
            },
            "marker": {
             "line": {
              "color": "#E5ECF6",
              "width": 0.5
             },
             "pattern": {
              "fillmode": "overlay",
              "size": 10,
              "solidity": 0.2
             }
            },
            "type": "bar"
           }
          ],
          "barpolar": [
           {
            "marker": {
             "line": {
              "color": "#E5ECF6",
              "width": 0.5
             },
             "pattern": {
              "fillmode": "overlay",
              "size": 10,
              "solidity": 0.2
             }
            },
            "type": "barpolar"
           }
          ],
          "carpet": [
           {
            "aaxis": {
             "endlinecolor": "#2a3f5f",
             "gridcolor": "white",
             "linecolor": "white",
             "minorgridcolor": "white",
             "startlinecolor": "#2a3f5f"
            },
            "baxis": {
             "endlinecolor": "#2a3f5f",
             "gridcolor": "white",
             "linecolor": "white",
             "minorgridcolor": "white",
             "startlinecolor": "#2a3f5f"
            },
            "type": "carpet"
           }
          ],
          "choropleth": [
           {
            "colorbar": {
             "outlinewidth": 0,
             "ticks": ""
            },
            "type": "choropleth"
           }
          ],
          "contour": [
           {
            "colorbar": {
             "outlinewidth": 0,
             "ticks": ""
            },
            "colorscale": [
             [
              0,
              "#0d0887"
             ],
             [
              0.1111111111111111,
              "#46039f"
             ],
             [
              0.2222222222222222,
              "#7201a8"
             ],
             [
              0.3333333333333333,
              "#9c179e"
             ],
             [
              0.4444444444444444,
              "#bd3786"
             ],
             [
              0.5555555555555556,
              "#d8576b"
             ],
             [
              0.6666666666666666,
              "#ed7953"
             ],
             [
              0.7777777777777778,
              "#fb9f3a"
             ],
             [
              0.8888888888888888,
              "#fdca26"
             ],
             [
              1,
              "#f0f921"
             ]
            ],
            "type": "contour"
           }
          ],
          "contourcarpet": [
           {
            "colorbar": {
             "outlinewidth": 0,
             "ticks": ""
            },
            "type": "contourcarpet"
           }
          ],
          "heatmap": [
           {
            "colorbar": {
             "outlinewidth": 0,
             "ticks": ""
            },
            "colorscale": [
             [
              0,
              "#0d0887"
             ],
             [
              0.1111111111111111,
              "#46039f"
             ],
             [
              0.2222222222222222,
              "#7201a8"
             ],
             [
              0.3333333333333333,
              "#9c179e"
             ],
             [
              0.4444444444444444,
              "#bd3786"
             ],
             [
              0.5555555555555556,
              "#d8576b"
             ],
             [
              0.6666666666666666,
              "#ed7953"
             ],
             [
              0.7777777777777778,
              "#fb9f3a"
             ],
             [
              0.8888888888888888,
              "#fdca26"
             ],
             [
              1,
              "#f0f921"
             ]
            ],
            "type": "heatmap"
           }
          ],
          "heatmapgl": [
           {
            "colorbar": {
             "outlinewidth": 0,
             "ticks": ""
            },
            "colorscale": [
             [
              0,
              "#0d0887"
             ],
             [
              0.1111111111111111,
              "#46039f"
             ],
             [
              0.2222222222222222,
              "#7201a8"
             ],
             [
              0.3333333333333333,
              "#9c179e"
             ],
             [
              0.4444444444444444,
              "#bd3786"
             ],
             [
              0.5555555555555556,
              "#d8576b"
             ],
             [
              0.6666666666666666,
              "#ed7953"
             ],
             [
              0.7777777777777778,
              "#fb9f3a"
             ],
             [
              0.8888888888888888,
              "#fdca26"
             ],
             [
              1,
              "#f0f921"
             ]
            ],
            "type": "heatmapgl"
           }
          ],
          "histogram": [
           {
            "marker": {
             "pattern": {
              "fillmode": "overlay",
              "size": 10,
              "solidity": 0.2
             }
            },
            "type": "histogram"
           }
          ],
          "histogram2d": [
           {
            "colorbar": {
             "outlinewidth": 0,
             "ticks": ""
            },
            "colorscale": [
             [
              0,
              "#0d0887"
             ],
             [
              0.1111111111111111,
              "#46039f"
             ],
             [
              0.2222222222222222,
              "#7201a8"
             ],
             [
              0.3333333333333333,
              "#9c179e"
             ],
             [
              0.4444444444444444,
              "#bd3786"
             ],
             [
              0.5555555555555556,
              "#d8576b"
             ],
             [
              0.6666666666666666,
              "#ed7953"
             ],
             [
              0.7777777777777778,
              "#fb9f3a"
             ],
             [
              0.8888888888888888,
              "#fdca26"
             ],
             [
              1,
              "#f0f921"
             ]
            ],
            "type": "histogram2d"
           }
          ],
          "histogram2dcontour": [
           {
            "colorbar": {
             "outlinewidth": 0,
             "ticks": ""
            },
            "colorscale": [
             [
              0,
              "#0d0887"
             ],
             [
              0.1111111111111111,
              "#46039f"
             ],
             [
              0.2222222222222222,
              "#7201a8"
             ],
             [
              0.3333333333333333,
              "#9c179e"
             ],
             [
              0.4444444444444444,
              "#bd3786"
             ],
             [
              0.5555555555555556,
              "#d8576b"
             ],
             [
              0.6666666666666666,
              "#ed7953"
             ],
             [
              0.7777777777777778,
              "#fb9f3a"
             ],
             [
              0.8888888888888888,
              "#fdca26"
             ],
             [
              1,
              "#f0f921"
             ]
            ],
            "type": "histogram2dcontour"
           }
          ],
          "mesh3d": [
           {
            "colorbar": {
             "outlinewidth": 0,
             "ticks": ""
            },
            "type": "mesh3d"
           }
          ],
          "parcoords": [
           {
            "line": {
             "colorbar": {
              "outlinewidth": 0,
              "ticks": ""
             }
            },
            "type": "parcoords"
           }
          ],
          "pie": [
           {
            "automargin": true,
            "type": "pie"
           }
          ],
          "scatter": [
           {
            "fillpattern": {
             "fillmode": "overlay",
             "size": 10,
             "solidity": 0.2
            },
            "type": "scatter"
           }
          ],
          "scatter3d": [
           {
            "line": {
             "colorbar": {
              "outlinewidth": 0,
              "ticks": ""
             }
            },
            "marker": {
             "colorbar": {
              "outlinewidth": 0,
              "ticks": ""
             }
            },
            "type": "scatter3d"
           }
          ],
          "scattercarpet": [
           {
            "marker": {
             "colorbar": {
              "outlinewidth": 0,
              "ticks": ""
             }
            },
            "type": "scattercarpet"
           }
          ],
          "scattergeo": [
           {
            "marker": {
             "colorbar": {
              "outlinewidth": 0,
              "ticks": ""
             }
            },
            "type": "scattergeo"
           }
          ],
          "scattergl": [
           {
            "marker": {
             "colorbar": {
              "outlinewidth": 0,
              "ticks": ""
             }
            },
            "type": "scattergl"
           }
          ],
          "scattermapbox": [
           {
            "marker": {
             "colorbar": {
              "outlinewidth": 0,
              "ticks": ""
             }
            },
            "type": "scattermapbox"
           }
          ],
          "scatterpolar": [
           {
            "marker": {
             "colorbar": {
              "outlinewidth": 0,
              "ticks": ""
             }
            },
            "type": "scatterpolar"
           }
          ],
          "scatterpolargl": [
           {
            "marker": {
             "colorbar": {
              "outlinewidth": 0,
              "ticks": ""
             }
            },
            "type": "scatterpolargl"
           }
          ],
          "scatterternary": [
           {
            "marker": {
             "colorbar": {
              "outlinewidth": 0,
              "ticks": ""
             }
            },
            "type": "scatterternary"
           }
          ],
          "surface": [
           {
            "colorbar": {
             "outlinewidth": 0,
             "ticks": ""
            },
            "colorscale": [
             [
              0,
              "#0d0887"
             ],
             [
              0.1111111111111111,
              "#46039f"
             ],
             [
              0.2222222222222222,
              "#7201a8"
             ],
             [
              0.3333333333333333,
              "#9c179e"
             ],
             [
              0.4444444444444444,
              "#bd3786"
             ],
             [
              0.5555555555555556,
              "#d8576b"
             ],
             [
              0.6666666666666666,
              "#ed7953"
             ],
             [
              0.7777777777777778,
              "#fb9f3a"
             ],
             [
              0.8888888888888888,
              "#fdca26"
             ],
             [
              1,
              "#f0f921"
             ]
            ],
            "type": "surface"
           }
          ],
          "table": [
           {
            "cells": {
             "fill": {
              "color": "#EBF0F8"
             },
             "line": {
              "color": "white"
             }
            },
            "header": {
             "fill": {
              "color": "#C8D4E3"
             },
             "line": {
              "color": "white"
             }
            },
            "type": "table"
           }
          ]
         },
         "layout": {
          "annotationdefaults": {
           "arrowcolor": "#2a3f5f",
           "arrowhead": 0,
           "arrowwidth": 1
          },
          "autotypenumbers": "strict",
          "coloraxis": {
           "colorbar": {
            "outlinewidth": 0,
            "ticks": ""
           }
          },
          "colorscale": {
           "diverging": [
            [
             0,
             "#8e0152"
            ],
            [
             0.1,
             "#c51b7d"
            ],
            [
             0.2,
             "#de77ae"
            ],
            [
             0.3,
             "#f1b6da"
            ],
            [
             0.4,
             "#fde0ef"
            ],
            [
             0.5,
             "#f7f7f7"
            ],
            [
             0.6,
             "#e6f5d0"
            ],
            [
             0.7,
             "#b8e186"
            ],
            [
             0.8,
             "#7fbc41"
            ],
            [
             0.9,
             "#4d9221"
            ],
            [
             1,
             "#276419"
            ]
           ],
           "sequential": [
            [
             0,
             "#0d0887"
            ],
            [
             0.1111111111111111,
             "#46039f"
            ],
            [
             0.2222222222222222,
             "#7201a8"
            ],
            [
             0.3333333333333333,
             "#9c179e"
            ],
            [
             0.4444444444444444,
             "#bd3786"
            ],
            [
             0.5555555555555556,
             "#d8576b"
            ],
            [
             0.6666666666666666,
             "#ed7953"
            ],
            [
             0.7777777777777778,
             "#fb9f3a"
            ],
            [
             0.8888888888888888,
             "#fdca26"
            ],
            [
             1,
             "#f0f921"
            ]
           ],
           "sequentialminus": [
            [
             0,
             "#0d0887"
            ],
            [
             0.1111111111111111,
             "#46039f"
            ],
            [
             0.2222222222222222,
             "#7201a8"
            ],
            [
             0.3333333333333333,
             "#9c179e"
            ],
            [
             0.4444444444444444,
             "#bd3786"
            ],
            [
             0.5555555555555556,
             "#d8576b"
            ],
            [
             0.6666666666666666,
             "#ed7953"
            ],
            [
             0.7777777777777778,
             "#fb9f3a"
            ],
            [
             0.8888888888888888,
             "#fdca26"
            ],
            [
             1,
             "#f0f921"
            ]
           ]
          },
          "colorway": [
           "#636efa",
           "#EF553B",
           "#00cc96",
           "#ab63fa",
           "#FFA15A",
           "#19d3f3",
           "#FF6692",
           "#B6E880",
           "#FF97FF",
           "#FECB52"
          ],
          "font": {
           "color": "#2a3f5f"
          },
          "geo": {
           "bgcolor": "white",
           "lakecolor": "white",
           "landcolor": "#E5ECF6",
           "showlakes": true,
           "showland": true,
           "subunitcolor": "white"
          },
          "hoverlabel": {
           "align": "left"
          },
          "hovermode": "closest",
          "mapbox": {
           "style": "light"
          },
          "paper_bgcolor": "white",
          "plot_bgcolor": "#E5ECF6",
          "polar": {
           "angularaxis": {
            "gridcolor": "white",
            "linecolor": "white",
            "ticks": ""
           },
           "bgcolor": "#E5ECF6",
           "radialaxis": {
            "gridcolor": "white",
            "linecolor": "white",
            "ticks": ""
           }
          },
          "scene": {
           "xaxis": {
            "backgroundcolor": "#E5ECF6",
            "gridcolor": "white",
            "gridwidth": 2,
            "linecolor": "white",
            "showbackground": true,
            "ticks": "",
            "zerolinecolor": "white"
           },
           "yaxis": {
            "backgroundcolor": "#E5ECF6",
            "gridcolor": "white",
            "gridwidth": 2,
            "linecolor": "white",
            "showbackground": true,
            "ticks": "",
            "zerolinecolor": "white"
           },
           "zaxis": {
            "backgroundcolor": "#E5ECF6",
            "gridcolor": "white",
            "gridwidth": 2,
            "linecolor": "white",
            "showbackground": true,
            "ticks": "",
            "zerolinecolor": "white"
           }
          },
          "shapedefaults": {
           "line": {
            "color": "#2a3f5f"
           }
          },
          "ternary": {
           "aaxis": {
            "gridcolor": "white",
            "linecolor": "white",
            "ticks": ""
           },
           "baxis": {
            "gridcolor": "white",
            "linecolor": "white",
            "ticks": ""
           },
           "bgcolor": "#E5ECF6",
           "caxis": {
            "gridcolor": "white",
            "linecolor": "white",
            "ticks": ""
           }
          },
          "title": {
           "x": 0.05
          },
          "xaxis": {
           "automargin": true,
           "gridcolor": "white",
           "linecolor": "white",
           "ticks": "",
           "title": {
            "standoff": 15
           },
           "zerolinecolor": "white",
           "zerolinewidth": 2
          },
          "yaxis": {
           "automargin": true,
           "gridcolor": "white",
           "linecolor": "white",
           "ticks": "",
           "title": {
            "standoff": 15
           },
           "zerolinecolor": "white",
           "zerolinewidth": 2
          }
         }
        },
        "title": {
         "text": "Most In-Demand Skills for Data Analysts in the US"
        },
        "xaxis": {
         "anchor": "y",
         "domain": [
          0,
          1
         ],
         "tickformat": ",d",
         "title": {
          "text": "median"
         }
        },
        "yaxis": {
         "anchor": "x",
         "domain": [
          0,
          1
         ],
         "title": {
          "text": "job_skills"
         }
        }
       }
      }
     },
     "metadata": {},
     "output_type": "display_data"
    }
   ],
   "source": [
    "import plotly.express as px\n",
    "import pandas as pd\n",
    "import seaborn as sns\n",
    "\n",
    "# **Top 10 Highest Paid Skills for Data Analysts**\n",
    "fig1 = px.bar(df_DA_US_top_pay, \n",
    "              x='median',   # Corrected column name\n",
    "              y=df_DA_US_top_pay.index, \n",
    "              orientation='h',\n",
    "              text_auto='.2s',\n",
    "              title='Highest Paid Skills for Data Analysts in the US')\n",
    "\n",
    "fig1.update_traces(marker_color='lightblue', textposition='outside')\n",
    "fig1.update_layout(xaxis_tickformat='$,.0f')\n",
    "\n",
    "# **Top 10 Most In-Demand Skills for Data Analysts**\n",
    "fig2 = px.bar(df_DA_US_top_skills, \n",
    "              x='median',  # Corrected column name\n",
    "              y=df_DA_US_top_skills.index, \n",
    "              orientation='h',\n",
    "              text_auto=True,\n",
    "              title='Most In-Demand Skills for Data Analysts in the US')\n",
    "\n",
    "fig2.update_traces(marker_color='gray', textposition='outside')\n",
    "fig2.update_layout(xaxis_tickformat=',d')\n",
    "\n",
    "\n",
    "# Show interactive figures\n",
    "fig1.show()\n",
    "fig2.show()\n"
   ]
  },
  {
   "cell_type": "code",
   "execution_count": 47,
   "metadata": {},
   "outputs": [
    {
     "name": "stderr",
     "output_type": "stream",
     "text": [
      "c:\\Users\\Nora\\anaconda3\\envs\\python_course\\Lib\\site-packages\\matplotlib\\animation.py:908: UserWarning:\n",
      "\n",
      "Animation was deleted without rendering anything. This is most likely not intended. To prevent deletion, assign the Animation to a variable, e.g. `anim`, that exists until you output the Animation using `plt.show()` or `anim.save()`.\n",
      "\n"
     ]
    }
   ],
   "source": [
    "import numpy as np\n",
    "import pandas as pd\n",
    "import matplotlib.pyplot as plt\n",
    "import seaborn as sns\n",
    "from matplotlib.animation import FuncAnimation\n",
    "\n",
    "# Sample Data (Replace with actual data)\n",
    "df_DA_US_top_pay = pd.DataFrame({\n",
    "    'Skill': ['SQL', 'Python', 'Tableau', 'Power BI', 'Excel'],\n",
    "    'Median Salary': [95000, 90000, 85000, 82000, 80000]\n",
    "})\n",
    "\n",
    "df_DA_US_top_skills = pd.DataFrame({\n",
    "    'Skill': ['SQL', 'Python', 'Excel', 'Power BI', 'Tableau'],\n",
    "    'Demand': [1500, 1400, 1300, 1200, 1100]\n",
    "})\n",
    "\n",
    "# Sorting for better visualization\n",
    "df_DA_US_top_pay = df_DA_US_top_pay.sort_values(by=\"Median Salary\", ascending=False)\n",
    "df_DA_US_top_skills = df_DA_US_top_skills.sort_values(by=\"Demand\", ascending=False)\n",
    "\n",
    "# Initialize the Figure\n",
    "fig, ax = plt.subplots(2, 1, figsize=(8, 10))\n",
    "\n",
    "# Set the styles\n",
    "sns.set_theme(style=\"whitegrid\")\n",
    "\n",
    "def update(frame):\n",
    "    \"\"\" Update function for animation \"\"\"\n",
    "    ax[0].cla()  # Clear the first plot\n",
    "    ax[1].cla()  # Clear the second plot\n",
    "\n",
    "    # Simulating changing values over time (ensuring non-negative values)\n",
    "    df_DA_US_top_pay[\"Median Salary\"] = np.maximum(\n",
    "        df_DA_US_top_pay[\"Median Salary\"] + np.random.randint(-2000, 2000, size=len(df_DA_US_top_pay)), \n",
    "        50000\n",
    "    )\n",
    "    df_DA_US_top_skills[\"Demand\"] = np.maximum(\n",
    "        df_DA_US_top_skills[\"Demand\"] + np.random.randint(-100, 100, size=len(df_DA_US_top_skills)), \n",
    "        1000\n",
    "    )\n",
    "\n",
    "    # Plot 1: Highest Paid Skills\n",
    "    sns.barplot(data=df_DA_US_top_pay, x=\"Median Salary\", y=\"Skill\", ax=ax[0], palette=\"dark:b_r\")\n",
    "    ax[0].set_title(f\"Highest Paid Skills for Data Analysts (Frame {frame})\")\n",
    "    ax[0].set_xlabel(\"\")\n",
    "    ax[0].xaxis.set_major_formatter(plt.FuncFormatter(lambda x, _: f\"${int(x/1000)}K\"))\n",
    "\n",
    "    # Plot 2: Most In-Demand Skills\n",
    "    sns.barplot(data=df_DA_US_top_skills, x=\"Demand\", y=\"Skill\", ax=ax[1], palette=\"light:b\")\n",
    "    ax[1].set_title(f\"Most In-Demand Skills for Data Analysts (Frame {frame})\")\n",
    "    ax[1].set_xlabel(\"Demand Count\")\n",
    "    ax[1].set_xlim(1000, 2000)  # Fixed range for better visualization\n",
    "\n",
    "    plt.tight_layout()\n",
    "\n",
    "# Creating the animation\n",
    "ani = FuncAnimation(fig, update, frames=20, interval=1000, repeat=True)\n",
    "\n",
    "# Ensure the animation object is not deleted before rendering\n",
    "plt.show()\n"
   ]
  },
  {
   "cell_type": "code",
   "execution_count": 44,
   "metadata": {},
   "outputs": [
    {
     "name": "stdout",
     "output_type": "stream",
     "text": [
      "module://matplotlib_inline.backend_inline\n"
     ]
    }
   ],
   "source": [
    "import matplotlib\n",
    "print(matplotlib.get_backend())"
   ]
  },
  {
   "cell_type": "code",
   "execution_count": 45,
   "metadata": {},
   "outputs": [],
   "source": [
    "matplotlib.use('TkAgg')"
   ]
  },
  {
   "cell_type": "code",
   "execution_count": 46,
   "metadata": {},
   "outputs": [
    {
     "name": "stdout",
     "output_type": "stream",
     "text": [
      "TkAgg\n"
     ]
    }
   ],
   "source": [
    "import matplotlib\n",
    "print(matplotlib.get_backend())"
   ]
  },
  {
   "cell_type": "code",
   "execution_count": null,
   "metadata": {},
   "outputs": [],
   "source": []
  }
 ],
 "metadata": {
  "kernelspec": {
   "display_name": "python_course",
   "language": "python",
   "name": "python3"
  },
  "language_info": {
   "codemirror_mode": {
    "name": "ipython",
    "version": 3
   },
   "file_extension": ".py",
   "mimetype": "text/x-python",
   "name": "python",
   "nbconvert_exporter": "python",
   "pygments_lexer": "ipython3",
   "version": "3.11.11"
  }
 },
 "nbformat": 4,
 "nbformat_minor": 2
}
